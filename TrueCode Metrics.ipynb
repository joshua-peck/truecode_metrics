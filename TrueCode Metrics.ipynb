{
 "cells": [
  {
   "cell_type": "code",
   "execution_count": 1,
   "id": "bd9e7128",
   "metadata": {},
   "outputs": [],
   "source": [
    "import pandas as pd\n",
    "import numpy as np\n",
    "import ffn\n",
    "from datetime import datetime as dt"
   ]
  },
  {
   "cell_type": "code",
   "execution_count": 2,
   "id": "44239144",
   "metadata": {},
   "outputs": [],
   "source": [
    "datafile = 'strategy_performance-20220731.csv'"
   ]
  },
  {
   "cell_type": "code",
   "execution_count": 3,
   "id": "e301f120",
   "metadata": {},
   "outputs": [],
   "source": [
    "FOA_START_DATE = dt.fromisoformat('2019-11-19')\n",
    "FOA_END_DATE = dt.fromisoformat('2022-04-30')\n",
    "FUND_START_DATE = dt.fromisoformat('2022-05-01')\n",
    "FUND_END_DATE = dt.fromisoformat('2022-07-31')"
   ]
  },
  {
   "cell_type": "code",
   "execution_count": 4,
   "id": "e853fa66",
   "metadata": {},
   "outputs": [],
   "source": [
    "prices = pd.read_csv(datafile)\n",
    "prices.index = pd.to_datetime(prices.Date)"
   ]
  },
  {
   "cell_type": "code",
   "execution_count": 5,
   "id": "e7218945",
   "metadata": {},
   "outputs": [
    {
     "data": {
      "text/html": [
       "<div>\n",
       "<style scoped>\n",
       "    .dataframe tbody tr th:only-of-type {\n",
       "        vertical-align: middle;\n",
       "    }\n",
       "\n",
       "    .dataframe tbody tr th {\n",
       "        vertical-align: top;\n",
       "    }\n",
       "\n",
       "    .dataframe thead th {\n",
       "        text-align: right;\n",
       "    }\n",
       "</style>\n",
       "<table border=\"1\" class=\"dataframe\">\n",
       "  <thead>\n",
       "    <tr style=\"text-align: right;\">\n",
       "      <th></th>\n",
       "      <th>Strategy</th>\n",
       "      <th>Bitcoin</th>\n",
       "    </tr>\n",
       "    <tr>\n",
       "      <th>Date</th>\n",
       "      <th></th>\n",
       "      <th></th>\n",
       "    </tr>\n",
       "  </thead>\n",
       "  <tbody>\n",
       "    <tr>\n",
       "      <th>2019-12-19</th>\n",
       "      <td>10000.00</td>\n",
       "      <td>10000.00</td>\n",
       "    </tr>\n",
       "    <tr>\n",
       "      <th>2019-12-20</th>\n",
       "      <td>10036.19</td>\n",
       "      <td>10052.49</td>\n",
       "    </tr>\n",
       "    <tr>\n",
       "      <th>2019-12-21</th>\n",
       "      <td>9981.81</td>\n",
       "      <td>9975.46</td>\n",
       "    </tr>\n",
       "    <tr>\n",
       "      <th>2019-12-22</th>\n",
       "      <td>10342.43</td>\n",
       "      <td>10491.08</td>\n",
       "    </tr>\n",
       "    <tr>\n",
       "      <th>2019-12-23</th>\n",
       "      <td>10163.95</td>\n",
       "      <td>10233.26</td>\n",
       "    </tr>\n",
       "    <tr>\n",
       "      <th>...</th>\n",
       "      <td>...</td>\n",
       "      <td>...</td>\n",
       "    </tr>\n",
       "    <tr>\n",
       "      <th>2022-07-27</th>\n",
       "      <td>51710.28</td>\n",
       "      <td>29725.56</td>\n",
       "    </tr>\n",
       "    <tr>\n",
       "      <th>2022-07-28</th>\n",
       "      <td>54307.97</td>\n",
       "      <td>32102.58</td>\n",
       "    </tr>\n",
       "    <tr>\n",
       "      <th>2022-07-29</th>\n",
       "      <td>53995.83</td>\n",
       "      <td>33348.60</td>\n",
       "    </tr>\n",
       "    <tr>\n",
       "      <th>2022-07-30</th>\n",
       "      <td>53705.13</td>\n",
       "      <td>33253.54</td>\n",
       "    </tr>\n",
       "    <tr>\n",
       "      <th>2022-07-31</th>\n",
       "      <td>53612.45</td>\n",
       "      <td>33068.04</td>\n",
       "    </tr>\n",
       "  </tbody>\n",
       "</table>\n",
       "<p>956 rows × 2 columns</p>\n",
       "</div>"
      ],
      "text/plain": [
       "            Strategy   Bitcoin\n",
       "Date                          \n",
       "2019-12-19  10000.00  10000.00\n",
       "2019-12-20  10036.19  10052.49\n",
       "2019-12-21   9981.81   9975.46\n",
       "2019-12-22  10342.43  10491.08\n",
       "2019-12-23  10163.95  10233.26\n",
       "...              ...       ...\n",
       "2022-07-27  51710.28  29725.56\n",
       "2022-07-28  54307.97  32102.58\n",
       "2022-07-29  53995.83  33348.60\n",
       "2022-07-30  53705.13  33253.54\n",
       "2022-07-31  53612.45  33068.04\n",
       "\n",
       "[956 rows x 2 columns]"
      ]
     },
     "execution_count": 5,
     "metadata": {},
     "output_type": "execute_result"
    }
   ],
   "source": [
    "prices[['Strategy', 'Bitcoin']]"
   ]
  },
  {
   "cell_type": "markdown",
   "id": "4f58986e",
   "metadata": {},
   "source": [
    "# Fund Statistics"
   ]
  },
  {
   "cell_type": "code",
   "execution_count": 6,
   "id": "74000480",
   "metadata": {},
   "outputs": [
    {
     "name": "stdout",
     "output_type": "stream",
     "text": [
      "Stat                 Strategy    Bitcoin\n",
      "-------------------  ----------  ----------\n",
      "Start                2022-05-01  2022-05-01\n",
      "End                  2022-07-31  2022-07-31\n",
      "Risk-free rate       0.00%       0.00%\n",
      "\n",
      "Total Return         9.53%       -37.17%\n",
      "Daily Sharpe         1.09        -1.65\n",
      "Daily Sortino        2.05        -2.40\n",
      "CAGR                 44.11%      -84.51%\n",
      "Max Drawdown         -8.32%      -52.20%\n",
      "Calmar Ratio         5.30        -1.62\n",
      "\n",
      "MTD                  15.97%      17.50%\n",
      "3m                   -           -\n",
      "6m                   -           -\n",
      "YTD                  9.53%       -37.17%\n",
      "1Y                   -           -\n",
      "3Y (ann.)            -           -\n",
      "5Y (ann.)            -           -\n",
      "10Y (ann.)           -           -\n",
      "Since Incep. (ann.)  44.11%      -84.51%\n",
      "\n",
      "Daily Sharpe         1.09        -1.65\n",
      "Daily Sortino        2.05        -2.40\n",
      "Daily Mean (ann.)    28.60%      -106.97%\n",
      "Daily Vol (ann.)     26.35%      65.00%\n",
      "Daily Skew           1.50        -0.58\n",
      "Daily Kurt           8.03        1.73\n",
      "Best Day             7.96%       8.45%\n",
      "Worst Day            -4.85%      -15.39%\n",
      "\n",
      "Monthly Sharpe       1.20        -0.86\n",
      "Monthly Sortino      4.69        -1.28\n",
      "Monthly Mean (ann.)  62.92%      -114.53%\n",
      "Monthly Vol (ann.)   52.53%      132.49%\n",
      "Monthly Skew         -           -\n",
      "Monthly Kurt         -           -\n",
      "Best Month           15.97%      17.50%\n",
      "Worst Month          -5.48%      -36.59%\n",
      "\n",
      "Yearly Sharpe        -           -\n",
      "Yearly Sortino       -           -\n",
      "Yearly Mean          -           -\n",
      "Yearly Vol           -           -\n",
      "Yearly Skew          -           -\n",
      "Yearly Kurt          -           -\n",
      "Best Year            -           -\n",
      "Worst Year           -           -\n",
      "\n",
      "Avg. Drawdown        -4.47%      -27.13%\n",
      "Avg. Drawdown Days   21.50       43.50\n",
      "Avg. Up Month        15.97%      17.50%\n",
      "Avg. Down Month      -5.48%      -36.59%\n",
      "Win Year %           -           -\n",
      "Win 12m %            -           -\n"
     ]
    }
   ],
   "source": [
    "sample = prices[FUND_START_DATE:FUND_END_DATE]\n",
    "stats = sample[['Strategy', 'Bitcoin']].calc_stats()\n",
    "stats.display()"
   ]
  },
  {
   "cell_type": "markdown",
   "id": "34946f4c",
   "metadata": {},
   "source": [
    "# Full History"
   ]
  },
  {
   "cell_type": "code",
   "execution_count": 7,
   "id": "d4604b4c",
   "metadata": {},
   "outputs": [
    {
     "name": "stdout",
     "output_type": "stream",
     "text": [
      "Stat                 Strategy    Bitcoin\n",
      "-------------------  ----------  ----------\n",
      "Start                2019-12-19  2019-12-19\n",
      "End                  2022-07-31  2022-07-31\n",
      "Risk-free rate       0.00%       0.00%\n",
      "\n",
      "Total Return         436.12%     230.68%\n",
      "Daily Sharpe         1.43        0.83\n",
      "Daily Sortino        2.48        1.33\n",
      "CAGR                 90.07%      58.00%\n",
      "Max Drawdown         -24.01%     -71.91%\n",
      "Calmar Ratio         3.75        0.81\n",
      "\n",
      "MTD                  15.97%      17.50%\n",
      "3m                   9.53%       -38.74%\n",
      "6m                   6.74%       -38.53%\n",
      "YTD                  6.56%       -48.84%\n",
      "1Y                   21.50%      -42.97%\n",
      "3Y (ann.)            90.07%      58.00%\n",
      "5Y (ann.)            -           -\n",
      "10Y (ann.)           -           -\n",
      "Since Incep. (ann.)  90.07%      58.00%\n",
      "\n",
      "Daily Sharpe         1.43        0.83\n",
      "Daily Sortino        2.48        1.33\n",
      "Daily Mean (ann.)    50.54%      52.31%\n",
      "Daily Vol (ann.)     35.33%      63.34%\n",
      "Daily Skew           0.52        -0.81\n",
      "Daily Kurt           6.37        11.77\n",
      "Best Day             16.80%      19.54%\n",
      "Worst Day            -9.75%      -39.50%\n",
      "\n",
      "Monthly Sharpe       1.49        0.97\n",
      "Monthly Sortino      6.71        2.13\n",
      "Monthly Mean (ann.)  77.78%      77.26%\n",
      "Monthly Vol (ann.)   52.22%      80.00%\n",
      "Monthly Skew         1.99        -0.01\n",
      "Monthly Kurt         5.42        -0.90\n",
      "Best Month           61.82%      46.85%\n",
      "Worst Month          -14.44%     -36.59%\n",
      "\n",
      "Yearly Sharpe        1.02        0.58\n",
      "Yearly Sortino       inf         3.70\n",
      "Yearly Mean          88.95%      104.31%\n",
      "Yearly Vol           86.81%      179.60%\n",
      "Yearly Skew          0.42        1.05\n",
      "Yearly Kurt          -           -\n",
      "Best Year            179.60%     301.98%\n",
      "Worst Year           6.56%       -48.84%\n",
      "\n",
      "Avg. Drawdown        -5.99%      -9.06%\n",
      "Avg. Drawdown Days   22.07       21.95\n",
      "Avg. Up Month        15.31%      23.91%\n",
      "Avg. Down Month      -4.24%      -14.77%\n",
      "Win Year %           100.00%     66.67%\n",
      "Win 12m %            100.00%     71.43%\n"
     ]
    },
    {
     "name": "stderr",
     "output_type": "stream",
     "text": [
      "/Users/jmp/.pyenv/versions/3.8-dev/envs/truecode_metrics/lib/python3.8/site-packages/ffn/core.py:2299: RuntimeWarning: divide by zero encountered in divide\n",
      "  res = np.divide(er.mean(), std)\n"
     ]
    }
   ],
   "source": [
    "stats = prices[['Strategy', 'Bitcoin']].calc_stats()\n",
    "stats.display()"
   ]
  },
  {
   "cell_type": "markdown",
   "id": "b6063bf9",
   "metadata": {},
   "source": [
    "# Calculate Correlation"
   ]
  },
  {
   "cell_type": "code",
   "execution_count": 8,
   "id": "7a859259",
   "metadata": {
    "scrolled": true
   },
   "outputs": [
    {
     "data": {
      "text/html": [
       "<div>\n",
       "<style scoped>\n",
       "    .dataframe tbody tr th:only-of-type {\n",
       "        vertical-align: middle;\n",
       "    }\n",
       "\n",
       "    .dataframe tbody tr th {\n",
       "        vertical-align: top;\n",
       "    }\n",
       "\n",
       "    .dataframe thead th {\n",
       "        text-align: right;\n",
       "    }\n",
       "</style>\n",
       "<table border=\"1\" class=\"dataframe\">\n",
       "  <thead>\n",
       "    <tr style=\"text-align: right;\">\n",
       "      <th></th>\n",
       "      <th>Strategy</th>\n",
       "      <th>Bitcoin</th>\n",
       "    </tr>\n",
       "  </thead>\n",
       "  <tbody>\n",
       "    <tr>\n",
       "      <th>Strategy</th>\n",
       "      <td>1.000000</td>\n",
       "      <td>0.847423</td>\n",
       "    </tr>\n",
       "    <tr>\n",
       "      <th>Bitcoin</th>\n",
       "      <td>0.847423</td>\n",
       "      <td>1.000000</td>\n",
       "    </tr>\n",
       "  </tbody>\n",
       "</table>\n",
       "</div>"
      ],
      "text/plain": [
       "          Strategy   Bitcoin\n",
       "Strategy  1.000000  0.847423\n",
       "Bitcoin   0.847423  1.000000"
      ]
     },
     "execution_count": 8,
     "metadata": {},
     "output_type": "execute_result"
    }
   ],
   "source": [
    "corr = prices[['Strategy', 'Bitcoin']].corr()\n",
    "corr"
   ]
  },
  {
   "cell_type": "code",
   "execution_count": 9,
   "id": "069655b7",
   "metadata": {},
   "outputs": [
    {
     "data": {
      "text/plain": [
       "0.8474227613030728"
      ]
     },
     "execution_count": 9,
     "metadata": {},
     "output_type": "execute_result"
    }
   ],
   "source": [
    "strategy_corr = corr[['Strategy']].loc['Bitcoin'].iloc[0]\n",
    "strategy_corr"
   ]
  },
  {
   "cell_type": "markdown",
   "id": "0d84b0af",
   "metadata": {},
   "source": [
    "# Calculate Beta"
   ]
  },
  {
   "cell_type": "code",
   "execution_count": 10,
   "id": "bb1fb115",
   "metadata": {},
   "outputs": [
    {
     "data": {
      "text/plain": [
       "(0.8681303215172094, 1.7959908715836608)"
      ]
     },
     "execution_count": 10,
     "metadata": {},
     "output_type": "execute_result"
    }
   ],
   "source": [
    "strategy_vol = stats['Strategy'].stats['yearly_vol']\n",
    "benchmark_vol = stats['Bitcoin'].stats['yearly_vol']\n",
    "(strategy_vol, benchmark_vol)"
   ]
  },
  {
   "cell_type": "code",
   "execution_count": 11,
   "id": "47039e38",
   "metadata": {},
   "outputs": [
    {
     "data": {
      "text/plain": [
       "0.4096197847499855"
      ]
     },
     "execution_count": 11,
     "metadata": {},
     "output_type": "execute_result"
    }
   ],
   "source": [
    "beta = strategy_corr * (strategy_vol / benchmark_vol)\n",
    "beta"
   ]
  },
  {
   "cell_type": "code",
   "execution_count": null,
   "id": "dab52e12",
   "metadata": {},
   "outputs": [],
   "source": []
  }
 ],
 "metadata": {
  "kernelspec": {
   "display_name": "Python 3 (ipykernel)",
   "language": "python",
   "name": "python3"
  },
  "language_info": {
   "codemirror_mode": {
    "name": "ipython",
    "version": 3
   },
   "file_extension": ".py",
   "mimetype": "text/x-python",
   "name": "python",
   "nbconvert_exporter": "python",
   "pygments_lexer": "ipython3",
   "version": "3.8.3+"
  }
 },
 "nbformat": 4,
 "nbformat_minor": 5
}
